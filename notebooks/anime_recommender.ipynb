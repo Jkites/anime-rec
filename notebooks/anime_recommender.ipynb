{
 "cells": [
  {
   "cell_type": "code",
   "execution_count": 5,
   "id": "87c75047-b5d2-4751-bce6-10e77aa6103d",
   "metadata": {},
   "outputs": [
    {
     "name": "stdout",
     "output_type": "stream",
     "text": [
      "   userID  animeID  rating\n",
      "0       1        1      10\n",
      "1       1        2      10\n",
      "2       1        3       7\n",
      "3       1        4      10\n",
      "4       1        5      10\n",
      "-------------------------\n"
     ]
    }
   ],
   "source": [
    "# Imports and Dataset Loading\n",
    "import pandas as pd\n",
    "import numpy as np\n",
    "from sklearn.decomposition import TruncatedSVD\n",
    "from sklearn.model_selection import train_test_split\n",
    "import matplotlib.pyplot as plt\n",
    "\n",
    "# Load data (userID, animeID, rating)\n",
    "df = pd.read_csv('../data/ratings.csv')\n",
    "# Load data (animeID, title, alternative_title, type, year, score, episodes, mal_url, sequel, image_url, genres, genres_detailed)\n",
    "#animes = pd.read_csv('../data/animes.csv')\n",
    "print(df.head())\n",
    "print(\"-------------------------\")\n",
    "#print(animes.head())"
   ]
  },
  {
   "cell_type": "code",
   "execution_count": 17,
   "id": "444832eb-7b36-4d96-9230-4fdaf7c2ae9a",
   "metadata": {},
   "outputs": [
    {
     "data": {
      "text/plain": [
       "(148170496, 3)"
      ]
     },
     "execution_count": 17,
     "metadata": {},
     "output_type": "execute_result"
    }
   ],
   "source": [
    "df.shape"
   ]
  }
 ],
 "metadata": {
  "kernelspec": {
   "display_name": "Python 3 (ipykernel)",
   "language": "python",
   "name": "python3"
  },
  "language_info": {
   "codemirror_mode": {
    "name": "ipython",
    "version": 3
   },
   "file_extension": ".py",
   "mimetype": "text/x-python",
   "name": "python",
   "nbconvert_exporter": "python",
   "pygments_lexer": "ipython3",
   "version": "3.13.6"
  }
 },
 "nbformat": 4,
 "nbformat_minor": 5
}
