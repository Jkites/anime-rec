{
 "cells": [
  {
   "cell_type": "code",
   "execution_count": 1,
   "id": "87c75047-b5d2-4751-bce6-10e77aa6103d",
   "metadata": {},
   "outputs": [
    {
     "name": "stdout",
     "output_type": "stream",
     "text": [
      "   userID  animeID  rating\n",
      "0       1        1      10\n",
      "1       1        2      10\n",
      "2       1        3       7\n",
      "3       1        4      10\n",
      "4       1        5      10\n",
      "-------------------------\n"
     ]
    }
   ],
   "source": [
    "# Imports and Dataset Loading\n",
    "import pandas as pd\n",
    "import numpy as np\n",
    "from sklearn.decomposition import TruncatedSVD\n",
    "from sklearn.model_selection import train_test_split\n",
    "import matplotlib.pyplot as plt\n",
    "\n",
    "# Load data (userID, animeID, rating)\n",
    "df = pd.read_csv('../data/ratings.csv')\n",
    "\n",
    "print(df.head())\n",
    "print(\"-------------------------\")\n"
   ]
  },
  {
   "cell_type": "code",
   "execution_count": 2,
   "id": "444832eb-7b36-4d96-9230-4fdaf7c2ae9a",
   "metadata": {},
   "outputs": [
    {
     "data": {
      "text/plain": [
       "(148170496, 3)"
      ]
     },
     "execution_count": 2,
     "metadata": {},
     "output_type": "execute_result"
    }
   ],
   "source": [
    "df.shape"
   ]
  },
  {
   "cell_type": "code",
   "execution_count": 3,
   "id": "d384d4b2",
   "metadata": {},
   "outputs": [
    {
     "name": "stdout",
     "output_type": "stream",
     "text": [
      "   animeID                                              title  \\\n",
      "0        1                               Howl's Moving Castle   \n",
      "1        2                                         Death Note   \n",
      "2        3  Problem Children Are Coming from Another World...   \n",
      "3        4                                            BTOOOM!   \n",
      "4        5                                   Sword Art Online   \n",
      "\n",
      "                                 alternative_title   type  year score  \\\n",
      "0                              Howl no Ugoku Shiro  MOVIE  2004  8.41   \n",
      "1                                              NaN     TV  2006  8.63   \n",
      "2  Mondaiji-tachi ga Isekai kara Kuru Sou desu yo?     TV  2013  7.42   \n",
      "3                                          Btooom!     TV  2012  7.34   \n",
      "4                                              NaN     TV  2012   7.5   \n",
      "\n",
      "   episodes                              mal_url  sequel  \\\n",
      "0         1    https://myanimelist.net/anime/431   False   \n",
      "1        37   https://myanimelist.net/anime/1535   False   \n",
      "2        10  https://myanimelist.net/anime/15315   False   \n",
      "3        12  https://myanimelist.net/anime/14345   False   \n",
      "4        25  https://myanimelist.net/anime/11757   False   \n",
      "\n",
      "                                           image_url  \\\n",
      "0  https://cdn.myanimelist.net/images/anime/1470/...   \n",
      "1  https://cdn.myanimelist.net/images/anime/1079/...   \n",
      "2  https://cdn.myanimelist.net/images/anime/12/43...   \n",
      "3  https://cdn.myanimelist.net/images/anime/4/409...   \n",
      "4  https://cdn.myanimelist.net/images/anime/11/39...   \n",
      "\n",
      "                                              genres  \\\n",
      "0  ['Adventure', 'Award Winning', 'Drama', 'Fanta...   \n",
      "1                       ['Supernatural', 'Suspense']   \n",
      "2                    ['Action', 'Comedy', 'Fantasy']   \n",
      "3                   ['Action', 'Sci-Fi', 'Suspense']   \n",
      "4      ['Action', 'Adventure', 'Fantasy', 'Romance']   \n",
      "\n",
      "                                     genres_detailed  \n",
      "0  ['action', 'adventure', 'age gap', 'air force'...  \n",
      "1  ['achronological order', 'acting', 'adapted in...  \n",
      "2  ['action', 'alternative world', 'anthropomorph...  \n",
      "3  ['achronological order', 'action', 'adventure'...  \n",
      "4  ['action', 'action drama', 'adventure', 'alter...  \n"
     ]
    }
   ],
   "source": [
    "# Load data (animeID, title, alternative_title, type, year, score, episodes, mal_url, sequel, image_url, genres, genres_detailed)\n",
    "animes = pd.read_csv('../data/animes.csv')\n",
    "print(animes.head())"
   ]
  },
  {
   "cell_type": "code",
   "execution_count": null,
   "id": "f98fb937-bde5-4775-b411-8500f12385ff",
   "metadata": {},
   "outputs": [],
   "source": []
  }
 ],
 "metadata": {
  "kernelspec": {
   "display_name": "Python 3 (ipykernel)",
   "language": "python",
   "name": "python3"
  },
  "language_info": {
   "codemirror_mode": {
    "name": "ipython",
    "version": 3
   },
   "file_extension": ".py",
   "mimetype": "text/x-python",
   "name": "python",
   "nbconvert_exporter": "python",
   "pygments_lexer": "ipython3",
   "version": "3.13.6"
  }
 },
 "nbformat": 4,
 "nbformat_minor": 5
}
